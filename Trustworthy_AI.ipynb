{
  "cells": [
    {
      "cell_type": "markdown",
      "metadata": {
        "id": "view-in-github",
        "colab_type": "text"
      },
      "source": [
        "<a href=\"https://colab.research.google.com/github/AnnaHauschild/Artificial-Intelligence/blob/main/Trustworthy_AI.ipynb\" target=\"_parent\"><img src=\"https://colab.research.google.com/assets/colab-badge.svg\" alt=\"Open In Colab\"/></a>"
      ]
    },
    {
      "cell_type": "code",
      "execution_count": 1,
      "metadata": {
        "id": "So2itsajqiiO",
        "colab": {
          "base_uri": "https://localhost:8080/"
        },
        "outputId": "378a33bd-f743-4744-a1ef-002b775f5036"
      },
      "outputs": [
        {
          "output_type": "stream",
          "name": "stdout",
          "text": [
            "Collecting foolbox\n",
            "  Downloading foolbox-3.3.4-py3-none-any.whl.metadata (7.3 kB)\n",
            "Collecting secml[pytorch]\n",
            "  Downloading secml-0.15.6-py3-none-any.whl.metadata (13 kB)\n",
            "Requirement already satisfied: numpy>=1.17 in /usr/local/lib/python3.10/dist-packages (from secml[pytorch]) (1.26.4)\n",
            "Requirement already satisfied: scipy>=1.3.2 in /usr/local/lib/python3.10/dist-packages (from secml[pytorch]) (1.13.1)\n",
            "Requirement already satisfied: matplotlib>=3 in /usr/local/lib/python3.10/dist-packages (from secml[pytorch]) (3.8.0)\n",
            "Requirement already satisfied: scikit-learn>=0.22 in /usr/local/lib/python3.10/dist-packages (from secml[pytorch]) (1.5.2)\n",
            "Requirement already satisfied: joblib>=0.14 in /usr/local/lib/python3.10/dist-packages (from secml[pytorch]) (1.4.2)\n",
            "Requirement already satisfied: Pillow>=6.2.1 in /usr/local/lib/python3.10/dist-packages (from secml[pytorch]) (10.4.0)\n",
            "Requirement already satisfied: requests in /usr/local/lib/python3.10/dist-packages (from secml[pytorch]) (2.32.3)\n",
            "Requirement already satisfied: python-dateutil in /usr/local/lib/python3.10/dist-packages (from secml[pytorch]) (2.8.2)\n",
            "Requirement already satisfied: torch!=1.5.*,>=1.4 in /usr/local/lib/python3.10/dist-packages (from secml[pytorch]) (2.5.0+cu121)\n",
            "Requirement already satisfied: torchvision!=0.6.*,>=0.5 in /usr/local/lib/python3.10/dist-packages (from secml[pytorch]) (0.20.0+cu121)\n",
            "Requirement already satisfied: setuptools in /usr/local/lib/python3.10/dist-packages (from foolbox) (75.1.0)\n",
            "Collecting eagerpy>=0.30.0 (from foolbox)\n",
            "  Downloading eagerpy-0.30.0-py3-none-any.whl.metadata (5.5 kB)\n",
            "Requirement already satisfied: GitPython>=3.0.7 in /usr/local/lib/python3.10/dist-packages (from foolbox) (3.1.43)\n",
            "Requirement already satisfied: typing-extensions>=3.7.4.1 in /usr/local/lib/python3.10/dist-packages (from foolbox) (4.12.2)\n",
            "Requirement already satisfied: gitdb<5,>=4.0.1 in /usr/local/lib/python3.10/dist-packages (from GitPython>=3.0.7->foolbox) (4.0.11)\n",
            "Requirement already satisfied: contourpy>=1.0.1 in /usr/local/lib/python3.10/dist-packages (from matplotlib>=3->secml[pytorch]) (1.3.0)\n",
            "Requirement already satisfied: cycler>=0.10 in /usr/local/lib/python3.10/dist-packages (from matplotlib>=3->secml[pytorch]) (0.12.1)\n",
            "Requirement already satisfied: fonttools>=4.22.0 in /usr/local/lib/python3.10/dist-packages (from matplotlib>=3->secml[pytorch]) (4.54.1)\n",
            "Requirement already satisfied: kiwisolver>=1.0.1 in /usr/local/lib/python3.10/dist-packages (from matplotlib>=3->secml[pytorch]) (1.4.7)\n",
            "Requirement already satisfied: packaging>=20.0 in /usr/local/lib/python3.10/dist-packages (from matplotlib>=3->secml[pytorch]) (24.1)\n",
            "Requirement already satisfied: pyparsing>=2.3.1 in /usr/local/lib/python3.10/dist-packages (from matplotlib>=3->secml[pytorch]) (3.2.0)\n",
            "Requirement already satisfied: six>=1.5 in /usr/local/lib/python3.10/dist-packages (from python-dateutil->secml[pytorch]) (1.16.0)\n",
            "Requirement already satisfied: charset-normalizer<4,>=2 in /usr/local/lib/python3.10/dist-packages (from requests->secml[pytorch]) (3.4.0)\n",
            "Requirement already satisfied: idna<4,>=2.5 in /usr/local/lib/python3.10/dist-packages (from requests->secml[pytorch]) (3.10)\n",
            "Requirement already satisfied: urllib3<3,>=1.21.1 in /usr/local/lib/python3.10/dist-packages (from requests->secml[pytorch]) (2.2.3)\n",
            "Requirement already satisfied: certifi>=2017.4.17 in /usr/local/lib/python3.10/dist-packages (from requests->secml[pytorch]) (2024.8.30)\n",
            "Requirement already satisfied: threadpoolctl>=3.1.0 in /usr/local/lib/python3.10/dist-packages (from scikit-learn>=0.22->secml[pytorch]) (3.5.0)\n",
            "Requirement already satisfied: filelock in /usr/local/lib/python3.10/dist-packages (from torch!=1.5.*,>=1.4->secml[pytorch]) (3.16.1)\n",
            "Requirement already satisfied: networkx in /usr/local/lib/python3.10/dist-packages (from torch!=1.5.*,>=1.4->secml[pytorch]) (3.4.2)\n",
            "Requirement already satisfied: jinja2 in /usr/local/lib/python3.10/dist-packages (from torch!=1.5.*,>=1.4->secml[pytorch]) (3.1.4)\n",
            "Requirement already satisfied: fsspec in /usr/local/lib/python3.10/dist-packages (from torch!=1.5.*,>=1.4->secml[pytorch]) (2024.10.0)\n",
            "Requirement already satisfied: sympy==1.13.1 in /usr/local/lib/python3.10/dist-packages (from torch!=1.5.*,>=1.4->secml[pytorch]) (1.13.1)\n",
            "Requirement already satisfied: mpmath<1.4,>=1.1.0 in /usr/local/lib/python3.10/dist-packages (from sympy==1.13.1->torch!=1.5.*,>=1.4->secml[pytorch]) (1.3.0)\n",
            "Requirement already satisfied: smmap<6,>=3.0.1 in /usr/local/lib/python3.10/dist-packages (from gitdb<5,>=4.0.1->GitPython>=3.0.7->foolbox) (5.0.1)\n",
            "Requirement already satisfied: MarkupSafe>=2.0 in /usr/local/lib/python3.10/dist-packages (from jinja2->torch!=1.5.*,>=1.4->secml[pytorch]) (3.0.2)\n",
            "Downloading foolbox-3.3.4-py3-none-any.whl (1.7 MB)\n",
            "\u001b[2K   \u001b[90m━━━━━━━━━━━━━━━━━━━━━━━━━━━━━━━━━━━━━━━━\u001b[0m \u001b[32m1.7/1.7 MB\u001b[0m \u001b[31m8.6 MB/s\u001b[0m eta \u001b[36m0:00:00\u001b[0m\n",
            "\u001b[?25hDownloading eagerpy-0.30.0-py3-none-any.whl (31 kB)\n",
            "Downloading secml-0.15.6-py3-none-any.whl (463 kB)\n",
            "\u001b[2K   \u001b[90m━━━━━━━━━━━━━━━━━━━━━━━━━━━━━━━━━━━━━━━━\u001b[0m \u001b[32m464.0/464.0 kB\u001b[0m \u001b[31m13.9 MB/s\u001b[0m eta \u001b[36m0:00:00\u001b[0m\n",
            "\u001b[?25hInstalling collected packages: eagerpy, secml, foolbox\n",
            "Successfully installed eagerpy-0.30.0 foolbox-3.3.4 secml-0.15.6\n"
          ]
        }
      ],
      "source": [
        "try:\n",
        "    import secml\n",
        "    import foolbox\n",
        "    import sklearn\n",
        "except Exception:\n",
        "    %pip install 'secml[pytorch]' foolbox"
      ]
    },
    {
      "cell_type": "markdown",
      "metadata": {
        "id": "TbV4OJbftF3r"
      },
      "source": [
        "# Exercise 1\n",
        "\n",
        "Complete the following tasks using SecML"
      ]
    },
    {
      "cell_type": "markdown",
      "metadata": {
        "id": "vKbsN5Arr2bU"
      },
      "source": [
        "Create an SVM with scikit-learn (use SVC, leave the default parameters) and wrap it with the scikit-learn SecML wrapper seen during the course."
      ]
    },
    {
      "cell_type": "code",
      "execution_count": null,
      "metadata": {
        "id": "IutV94PcrOGV",
        "colab": {
          "base_uri": "https://localhost:8080/"
        },
        "outputId": "0489b81b-2900-49af-a067-23779b9eb61c"
      },
      "outputs": [
        {
          "output_type": "stream",
          "name": "stdout",
          "text": [
            "2024-11-12 10:27:09,876 - secml.settings - INFO - New `SECML_HOME_DIR` created: /root/secml-data\n",
            "2024-11-12 10:27:09,876 - secml.settings - INFO - New `SECML_HOME_DIR` created: /root/secml-data\n"
          ]
        },
        {
          "output_type": "stream",
          "name": "stderr",
          "text": [
            "INFO:secml.settings:New `SECML_HOME_DIR` created: /root/secml-data\n"
          ]
        },
        {
          "output_type": "stream",
          "name": "stdout",
          "text": [
            "2024-11-12 10:27:09,899 - secml.settings - INFO - Default configuration file copied to: /root/secml-data/secml.conf\n",
            "2024-11-12 10:27:09,899 - secml.settings - INFO - Default configuration file copied to: /root/secml-data/secml.conf\n"
          ]
        },
        {
          "output_type": "stream",
          "name": "stderr",
          "text": [
            "INFO:secml.settings:Default configuration file copied to: /root/secml-data/secml.conf\n"
          ]
        },
        {
          "output_type": "stream",
          "name": "stdout",
          "text": [
            "2024-11-12 10:27:09,908 - secml.settings - INFO - New `SECML_DS_DIR` created: /root/secml-data/datasets\n",
            "2024-11-12 10:27:09,908 - secml.settings - INFO - New `SECML_DS_DIR` created: /root/secml-data/datasets\n"
          ]
        },
        {
          "output_type": "stream",
          "name": "stderr",
          "text": [
            "INFO:secml.settings:New `SECML_DS_DIR` created: /root/secml-data/datasets\n"
          ]
        },
        {
          "output_type": "stream",
          "name": "stdout",
          "text": [
            "2024-11-12 10:27:09,923 - secml.settings - INFO - New `SECML_MODELS_DIR` created: /root/secml-data/models\n",
            "2024-11-12 10:27:09,923 - secml.settings - INFO - New `SECML_MODELS_DIR` created: /root/secml-data/models\n"
          ]
        },
        {
          "output_type": "stream",
          "name": "stderr",
          "text": [
            "INFO:secml.settings:New `SECML_MODELS_DIR` created: /root/secml-data/models\n"
          ]
        },
        {
          "output_type": "stream",
          "name": "stdout",
          "text": [
            "2024-11-12 10:27:09,937 - secml.settings - INFO - New `SECML_EXP_DIR` created: /root/secml-data/experiments\n",
            "2024-11-12 10:27:09,937 - secml.settings - INFO - New `SECML_EXP_DIR` created: /root/secml-data/experiments\n"
          ]
        },
        {
          "output_type": "stream",
          "name": "stderr",
          "text": [
            "INFO:secml.settings:New `SECML_EXP_DIR` created: /root/secml-data/experiments\n"
          ]
        },
        {
          "output_type": "stream",
          "name": "stdout",
          "text": [
            "2024-11-12 10:27:09,951 - secml.settings - INFO - New `SECML_LOGS_DIR` created: /root/secml-data/logs\n",
            "2024-11-12 10:27:09,951 - secml.settings - INFO - New `SECML_LOGS_DIR` created: /root/secml-data/logs\n"
          ]
        },
        {
          "output_type": "stream",
          "name": "stderr",
          "text": [
            "INFO:secml.settings:New `SECML_LOGS_DIR` created: /root/secml-data/logs\n"
          ]
        },
        {
          "output_type": "stream",
          "name": "stdout",
          "text": [
            "2024-11-12 10:27:09,970 - secml.settings - INFO - New `SECML_PYTORCH_DIR` created: /root/secml-data/pytorch-data\n",
            "2024-11-12 10:27:09,970 - secml.settings - INFO - New `SECML_PYTORCH_DIR` created: /root/secml-data/pytorch-data\n"
          ]
        },
        {
          "output_type": "stream",
          "name": "stderr",
          "text": [
            "INFO:secml.settings:New `SECML_PYTORCH_DIR` created: /root/secml-data/pytorch-data\n"
          ]
        }
      ],
      "source": [
        "from sklearn.svm import SVC\n",
        "from secml.ml.classifiers import CClassifierSkLearn\n",
        "\n",
        "# complete here\n",
        "model = SVC()\n",
        "secml_model = CClassifierSkLearn(model)"
      ]
    },
    {
      "cell_type": "markdown",
      "metadata": {
        "id": "hVsF37vjr-kI"
      },
      "source": [
        "Create a dataset consisting of 500 samples of 2D points from two clusters (CDLRandomBlobs), whose centers are located in (-2, 2) and (2,2) with standard deviation = 0.5. Normalize the dataset between 0 and 1 (CNormalizerMinMax)."
      ]
    },
    {
      "cell_type": "code",
      "execution_count": null,
      "metadata": {
        "id": "l-uzqBEvrVxX"
      },
      "outputs": [],
      "source": [
        "# complete here\n",
        "random_state = 999\n",
        "\n",
        "n_features = 2   # number of features\n",
        "n_samples = 500   # number of samples\n",
        "centers = [[-2, 2], [2, 2]]   # centers of the clusters\n",
        "cluster_std = 0.5   # standard deviation of the clusters\n",
        "\n",
        "from secml.data.loader import CDLRandomBlobs\n",
        "dataset = CDLRandomBlobs(n_features=n_features,\n",
        "                         centers=centers,\n",
        "                         cluster_std=cluster_std,\n",
        "                         n_samples=n_samples,\n",
        "                         random_state=random_state).load()\n",
        "\n",
        "# normalize the data\n",
        "from secml.ml.features import CNormalizerMinMax\n",
        "nmz = CNormalizerMinMax()\n",
        "dataset.X = nmz.fit_transform(dataset.X)\n"
      ]
    },
    {
      "cell_type": "markdown",
      "metadata": {
        "id": "yCLA0xzpsins"
      },
      "source": [
        "Divide the data with the SecML splitter (CTrainTestSplit), using 400 samples per il training e 100 per il test."
      ]
    },
    {
      "cell_type": "code",
      "execution_count": null,
      "metadata": {
        "id": "usG6mYlzsfyY"
      },
      "outputs": [],
      "source": [
        "# complete here\n",
        "n_tr = 400  # number of training set samples\n",
        "n_ts = 100  # number of test set samples\n",
        "\n",
        "# split in training and test\n",
        "from secml.data.splitter import CTrainTestSplit\n",
        "splitter = CTrainTestSplit(\n",
        "    train_size=n_tr, test_size=n_ts, random_state=random_state)\n",
        "tr, ts = splitter.split(dataset)\n",
        "\n"
      ]
    },
    {
      "cell_type": "markdown",
      "metadata": {
        "id": "vKNFA_UUtXfB"
      },
      "source": [
        "Fit the classifier on the training data."
      ]
    },
    {
      "cell_type": "code",
      "execution_count": null,
      "metadata": {
        "id": "bgP-6ewxtW-4"
      },
      "outputs": [],
      "source": [
        "# complete here\n",
        "secml_model.fit(tr.X,tr.Y)"
      ]
    },
    {
      "cell_type": "markdown",
      "metadata": {
        "id": "oXKWrHZetiNv"
      },
      "source": [
        "Compute the accuracy on the test set using the CMetricAccuracy object."
      ]
    },
    {
      "cell_type": "code",
      "execution_count": null,
      "metadata": {
        "id": "Jx2Qe4DstdSP"
      },
      "outputs": [],
      "source": [
        "# complete here\n",
        "predictions = secml_model.predict(ts.X)\n",
        "\n",
        "# this class computes the accuracy of a model\n",
        "from secml.ml.peval.metrics import CMetricAccuracy\n",
        "metric = CMetricAccuracy()\n",
        "\n",
        "accuracy = metric.performance_score(y_true=ts.Y, y_pred=predictions)\n",
        "\n",
        "print(\"Accuracy on the test set\", accuracy)"
      ]
    },
    {
      "cell_type": "markdown",
      "metadata": {
        "id": "OAU4FNhBt0DB"
      },
      "source": [
        "Plot the learned decision function using the ad-hoc method of the CFigure class."
      ]
    },
    {
      "cell_type": "code",
      "execution_count": null,
      "metadata": {
        "id": "YOzVOO7BtuIh"
      },
      "outputs": [],
      "source": [
        "# complete here\n",
        "fig = CFigure(width=5, height=5)\n",
        "\n",
        "# convenience function for plotting the decision function of a classifier\n",
        "fig.sp.plot_decision_regions(secml_model, n_grid_points=200)\n",
        "\n",
        "fig.sp.plot_ds(ts)\n",
        "fig.sp.grid(grid_on=False)\n",
        "\n",
        "fig.sp.title(\"Classification regions\")\n",
        "fig.show()"
      ]
    },
    {
      "cell_type": "markdown",
      "metadata": {
        "id": "Noi1NE_owIhq"
      },
      "source": [
        "# Exercise 2\n",
        "\n",
        "We provide you the code for training a simple model on 2D data. Execute the cell to create and fit the model."
      ]
    },
    {
      "cell_type": "code",
      "execution_count": null,
      "metadata": {
        "id": "tRV_OVL7uAlw"
      },
      "outputs": [],
      "source": [
        "%matplotlib inline\n",
        "import torch\n",
        "torch.manual_seed(111)\n",
        "from torch.nn.functional import relu, softmax\n",
        "from torch.optim import SGD\n",
        "from secml.ml.classifiers import CClassifierPyTorch\n",
        "from secml.ml.features import CNormalizerMinMax\n",
        "from secml.data.splitter import CTrainTestSplit\n",
        "from secml.data.loader import CDLRandomBlobs\n",
        "from secml.ml.features import CNormalizerMinMax\n",
        "from secml.figure import CFigure\n",
        "from secml.ml.peval.metrics import CMetricAccuracy\n",
        "\n",
        "class Net(torch.nn.Module):\n",
        "    def __init__(self):\n",
        "        super().__init__()\n",
        "        self.lin1 = torch.nn.Linear(2, 50)\n",
        "        self.lin2 = torch.nn.Linear(50, 50)\n",
        "        self.lin3 = torch.nn.Linear(50, 3)\n",
        "\n",
        "    def forward(self, x):\n",
        "        x = relu(self.lin1(x))\n",
        "        x = relu(self.lin2(x))\n",
        "        y = self.lin3(x)\n",
        "        return y\n",
        "\n",
        "net = Net()\n",
        "optimizer = SGD(net.parameters(), lr=0.01, momentum=0.9)\n",
        "loss_function = torch.nn.CrossEntropyLoss()\n",
        "from secml.ml.classifiers import CClassifierPyTorch\n",
        "clf = CClassifierPyTorch(model=net,\n",
        "                         loss=loss_function,\n",
        "                         optimizer=optimizer,\n",
        "                         epochs=30,\n",
        "                         batch_size=32,\n",
        "                         random_state=31)\n",
        "\n",
        "\n",
        "dataset = CDLRandomBlobs(n_features=2,\n",
        "                         centers=[[0,0], [1,1], [0,1]],\n",
        "                         cluster_std=0.2,\n",
        "                         n_samples=500,\n",
        "                         random_state=111).load()\n",
        "\n",
        "dataset.X = CNormalizerMinMax().fit_transform(dataset.X)\n",
        "splitter = CTrainTestSplit(train_size=475, test_size=25, random_state=8)\n",
        "tr, ts = splitter.split(dataset)\n",
        "\n",
        "clf.fit(tr.X, tr.Y)\n",
        "\n",
        "print(f\"Accuracy is {CMetricAccuracy().performance_score(clf.predict(ts.X), ts.Y)}\")\n",
        "fig = CFigure()\n",
        "fig.sp.plot_ds(ts)\n",
        "fig.sp.plot_decision_regions(clf, n_grid_points=50)"
      ]
    },
    {
      "cell_type": "markdown",
      "metadata": {
        "id": "kBifoOnewNAG"
      },
      "source": [
        "Compute a security evaluation curve of the trained model using the corresponding SecML object (CSecEval) as shown in class, with the following setup.\n",
        "\n",
        "* Use the CFoolboxPGDLInf attack from the SecML library, with 5 iterations and 0.05 as absolute step size, no random start, lower bound 0 and upper bound 1;\n",
        "\n",
        "* Use at least 5 values for the perturbation budget epsilon.\n",
        "Since it is an L-inf attack and the domain is bounded between 0 and 1, which is the maximum perturbation norm that the attack can reach?\n",
        "\n"
      ]
    },
    {
      "cell_type": "markdown",
      "source": [
        "Answer: Since it is an L-inf attack. the maximum value of epsilon can become 1. Assuming the sample lays in (0,0) then the maximum pertubation can be at (1,1) without escaping from input domain. L_inf = max(x). If it is not normed the maximum would be k."
      ],
      "metadata": {
        "id": "79WcfTg9nJh3"
      }
    },
    {
      "cell_type": "code",
      "execution_count": null,
      "metadata": {
        "id": "aMjmX-kI8h8n"
      },
      "outputs": [],
      "source": [
        "# complete here\n",
        "from secml.array import CArray\n",
        "from secml.adv.attacks.evasion import CFoolboxPGDLinf\n",
        "from secml.adv.seceval import CSecEval\n",
        "\n",
        "n_retrains = 5\n",
        "how_many_adv = 200\n",
        "y_target = None\n",
        "lb, ub = 0, 1\n",
        "eps = 0.2\n",
        "alpha = 0.05\n",
        "steps = 10\n",
        "\n",
        "# perturbation levels to test\n",
        "epsilon_vals = CArray.linspace(start=0, stop=1, num=5)\n",
        "\n",
        "pgd_attack = CFoolboxPGDLinf(clf, y_target,\n",
        "                         lb=lb, ub=ub,\n",
        "                         epsilons=eps,\n",
        "                         abs_stepsize=alpha,\n",
        "                         steps=steps,\n",
        "                         random_start=False)\n",
        "sec_eval = CSecEval(attack=pgd_attack, param_name='epsilon', param_values=epsilon_vals)\n",
        "sec_eval.run_sec_eval(ts)\n"
      ]
    },
    {
      "cell_type": "markdown",
      "metadata": {
        "id": "R6qQOlAQ9uzW"
      },
      "source": [
        "Plot the security evaluation curve using the ad-hoc method of the CFigure class."
      ]
    },
    {
      "cell_type": "code",
      "execution_count": null,
      "metadata": {
        "id": "Z0AqKRNU89pv"
      },
      "outputs": [],
      "source": [
        "# complete here\n",
        "\n",
        "%matplotlib inline\n",
        "from secml.figure import CFigure\n",
        "\n",
        "fig = CFigure(height=5, width=10)\n",
        "\n",
        "# convenience function for plotting the Security Evaluation Curve\n",
        "fig.sp.plot_sec_eval(sec_eval.sec_eval_data, marker='o', label='regular', show_average=True)\n",
        "fig.show()"
      ]
    },
    {
      "cell_type": "markdown",
      "metadata": {
        "id": "YEYSsbBTBxbb"
      },
      "source": [
        "# Exercise 3\n",
        "\n",
        "We provide the code for an example implementation of gradient descent attack.\n",
        "The implementation contains a bug: find it, fix it, and motivate your choice."
      ]
    },
    {
      "cell_type": "code",
      "execution_count": null,
      "metadata": {
        "id": "Xg6ZvH-I_pnN"
      },
      "outputs": [],
      "source": [
        "from secml.array import CArray\n",
        "from secml.ml import CClassifier\n",
        "from secml.ml.classifiers.loss import CLossCrossEntropy\n",
        "\n",
        "\n",
        "def pgd_l2_targeted(clf : CClassifier, x : CArray, y_original : CArray, y_target : int, steps : int=20, eps : float=0.5, step_size : float=0.05, lb : int = 0, ub : int = 1):\n",
        "    loss_func = CLossCrossEntropy()\n",
        "    x_adv = x.deepcopy()\n",
        "    for i in range(steps):\n",
        "        scores = clf.decision_function(x_adv)\n",
        "        loss_gradient = loss_func.dloss(y_true=y_original, score=scores, pos_label=y_target)\n",
        "        clf_gradient = clf.grad_f_x(x_adv, y_target)\n",
        "        gradient = clf_gradient * loss_gradient\n",
        "\n",
        "        if gradient.norm() != 0:\n",
        "            gradient /= gradient.norm()\n",
        "\n",
        "      #bug: the + is supposed to be a -. Since it is a targeted attack we want to go closer to the center of the target class\n",
        "      #with + int the untargeted attack we go far away from the original class\n",
        "        x_adv = x_adv - gradient\n",
        "        delta = x_adv - x\n",
        "        if delta.norm() > eps:\n",
        "            delta = delta / delta.norm()\n",
        "            x_adv = x + delta * eps\n",
        "        x_adv = x_adv.clip(lb, ub)\n",
        "\n",
        "    scores = clf.decision_function(x_adv)\n",
        "    print(f'Adv label: {scores.argmax()}')\n",
        "    return x_adv"
      ]
    }
  ],
  "metadata": {
    "colab": {
      "provenance": [],
      "include_colab_link": true
    },
    "kernelspec": {
      "display_name": "Python 3",
      "name": "python3"
    },
    "language_info": {
      "name": "python"
    }
  },
  "nbformat": 4,
  "nbformat_minor": 0
}